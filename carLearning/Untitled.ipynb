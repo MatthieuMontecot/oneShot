{
 "cells": [
  {
   "cell_type": "code",
   "execution_count": 5,
   "id": "a6646948-22f1-4b2e-9097-62f6fb0700e7",
   "metadata": {},
   "outputs": [
    {
     "data": {
      "text/plain": [
       "array([[ 2.75661376e-01, -4.89076278e-02,  2.87722149e-01,\n",
       "        -2.19084166e-01,  2.46749202e-01],\n",
       "       [-2.14352337e-04,  3.74293348e-01, -4.74663879e-01,\n",
       "         2.72456999e-01,  4.12023501e-01]])"
      ]
     },
     "execution_count": 5,
     "metadata": {},
     "output_type": "execute_result"
    }
   ],
   "source": [
    "import numpy as np\n",
    "\n",
    "np.random.rand(10).reshape(np.arange(10).reshape(2,5).shape)-0.5"
   ]
  },
  {
   "cell_type": "code",
   "execution_count": 7,
   "id": "b0ae66f5-255f-4437-ba3b-a7ba706c2089",
   "metadata": {},
   "outputs": [
    {
     "data": {
      "text/plain": [
       "array([[0, 1],\n",
       "       [2, 3],\n",
       "       [4, 5],\n",
       "       [6, 7],\n",
       "       [8, 9]])"
      ]
     },
     "execution_count": 7,
     "metadata": {},
     "output_type": "execute_result"
    }
   ],
   "source": [
    "def add(v):\n",
    "    v += 1\n",
    "\n",
    "u = np.arange(10).reshape(5,2)\n",
    "add(u[3,1])\n",
    "u"
   ]
  },
  {
   "cell_type": "code",
   "execution_count": 9,
   "id": "2264c96a-bff6-435a-96e9-225db291ef7c",
   "metadata": {},
   "outputs": [
    {
     "data": {
      "text/plain": [
       "array([0.67281002])"
      ]
     },
     "execution_count": 9,
     "metadata": {},
     "output_type": "execute_result"
    }
   ],
   "source": [
    "np.random.uniform(-1, 1, 1)"
   ]
  },
  {
   "cell_type": "code",
   "execution_count": null,
   "id": "4533b7d9-8851-4785-ad90-1cacedf26cfa",
   "metadata": {},
   "outputs": [],
   "source": []
  }
 ],
 "metadata": {
  "kernelspec": {
   "display_name": "Python 3 (ipykernel)",
   "language": "python",
   "name": "python3"
  },
  "language_info": {
   "codemirror_mode": {
    "name": "ipython",
    "version": 3
   },
   "file_extension": ".py",
   "mimetype": "text/x-python",
   "name": "python",
   "nbconvert_exporter": "python",
   "pygments_lexer": "ipython3",
   "version": "3.10.10"
  }
 },
 "nbformat": 4,
 "nbformat_minor": 5
}
